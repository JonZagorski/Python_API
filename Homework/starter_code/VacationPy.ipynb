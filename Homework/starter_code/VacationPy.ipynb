{
 "cells": [
  {
   "cell_type": "markdown",
   "metadata": {},
   "source": [
    "# VacationPy\n",
    "----\n",
    "\n",
    "#### Note\n",
    "* Keep an eye on your API usage. Use https://developers.google.com/maps/reporting/gmp-reporting as reference for how to monitor your usage and billing.\n",
    "\n",
    "* Instructions have been included for each segment. You do not have to follow them exactly, but they are included to help you think through the steps."
   ]
  },
  {
   "cell_type": "code",
   "execution_count": 1,
   "metadata": {},
   "outputs": [],
   "source": [
    "# Dependencies and Setup\n",
    "import matplotlib.pyplot as plt\n",
    "import pandas as pd\n",
    "import numpy as np\n",
    "import requests\n",
    "import gmaps\n",
    "import os\n",
    "from pprint import pprint\n",
    "# Import API key\n",
    "from api_keys import g_key"
   ]
  },
  {
   "cell_type": "markdown",
   "metadata": {},
   "source": [
    "### Store Part I results into DataFrame\n",
    "* Load the csv exported in Part I to a DataFrame"
   ]
  },
  {
   "cell_type": "code",
   "execution_count": 3,
   "metadata": {
    "tags": []
   },
   "outputs": [
    {
     "output_type": "stream",
     "name": "stdout",
     "text": "Unnamed: 0            city    lat     lon  max temp  humidity  clouds  \\\n0             0           kapaa  22.08 -159.32     78.80      78.0    75.0   \n1             1       cape town -33.93   18.42     60.01      93.0    90.0   \n2             2         rikitea -23.12 -134.97     69.35      80.0    94.0   \n3             3    punta arenas -53.15  -70.92     39.20      80.0    90.0   \n4             4  campbell river  50.02 -125.24     66.20      72.0    40.0   \n..          ...             ...    ...     ...       ...       ...     ...   \n497         497             sur  -6.88  112.21     76.50      84.0    89.0   \n498         498         shimoda  49.76  129.52     58.05      92.0    98.0   \n499         499          aykhal  37.72  -25.43     77.00      65.0    20.0   \n500         500          killam  26.73   33.94     93.20      34.0     0.0   \n501         501     gondanglegi  59.06   80.86     50.74      91.0   100.0   \n\n     wind speed country        date  \n0         11.41      US  1970-01-01  \n1         18.34      ZA  1970-01-01  \n2         21.47      PF  1970-01-01  \n3          4.70      CL  1970-01-01  \n4          8.05      CA  1970-01-01  \n..          ...     ...         ...  \n497        8.43      ID  1970-01-01  \n498        3.22      RU  1970-01-01  \n499       12.75      PT  1970-01-01  \n500        3.36      EG  1970-01-01  \n501        3.11      RU  1970-01-01  \n\n[502 rows x 10 columns]\n"
    },
    {
     "output_type": "execute_result",
     "data": {
      "text/plain": "               city    lat     lon  humidity country\n0             kapaa  22.08 -159.32      78.0      US\n1         cape town -33.93   18.42      93.0      ZA\n2           rikitea -23.12 -134.97      80.0      PF\n3      punta arenas -53.15  -70.92      80.0      CL\n4    campbell river  50.02 -125.24      72.0      CA\n..              ...    ...     ...       ...     ...\n497             sur  -6.88  112.21      84.0      ID\n498         shimoda  49.76  129.52      92.0      RU\n499          aykhal  37.72  -25.43      65.0      PT\n500          killam  26.73   33.94      34.0      EG\n501     gondanglegi  59.06   80.86      91.0      RU\n\n[502 rows x 5 columns]",
      "text/html": "<div>\n<style scoped>\n    .dataframe tbody tr th:only-of-type {\n        vertical-align: middle;\n    }\n\n    .dataframe tbody tr th {\n        vertical-align: top;\n    }\n\n    .dataframe thead th {\n        text-align: right;\n    }\n</style>\n<table border=\"1\" class=\"dataframe\">\n  <thead>\n    <tr style=\"text-align: right;\">\n      <th></th>\n      <th>city</th>\n      <th>lat</th>\n      <th>lon</th>\n      <th>humidity</th>\n      <th>country</th>\n    </tr>\n  </thead>\n  <tbody>\n    <tr>\n      <th>0</th>\n      <td>kapaa</td>\n      <td>22.08</td>\n      <td>-159.32</td>\n      <td>78.0</td>\n      <td>US</td>\n    </tr>\n    <tr>\n      <th>1</th>\n      <td>cape town</td>\n      <td>-33.93</td>\n      <td>18.42</td>\n      <td>93.0</td>\n      <td>ZA</td>\n    </tr>\n    <tr>\n      <th>2</th>\n      <td>rikitea</td>\n      <td>-23.12</td>\n      <td>-134.97</td>\n      <td>80.0</td>\n      <td>PF</td>\n    </tr>\n    <tr>\n      <th>3</th>\n      <td>punta arenas</td>\n      <td>-53.15</td>\n      <td>-70.92</td>\n      <td>80.0</td>\n      <td>CL</td>\n    </tr>\n    <tr>\n      <th>4</th>\n      <td>campbell river</td>\n      <td>50.02</td>\n      <td>-125.24</td>\n      <td>72.0</td>\n      <td>CA</td>\n    </tr>\n    <tr>\n      <th>...</th>\n      <td>...</td>\n      <td>...</td>\n      <td>...</td>\n      <td>...</td>\n      <td>...</td>\n    </tr>\n    <tr>\n      <th>497</th>\n      <td>sur</td>\n      <td>-6.88</td>\n      <td>112.21</td>\n      <td>84.0</td>\n      <td>ID</td>\n    </tr>\n    <tr>\n      <th>498</th>\n      <td>shimoda</td>\n      <td>49.76</td>\n      <td>129.52</td>\n      <td>92.0</td>\n      <td>RU</td>\n    </tr>\n    <tr>\n      <th>499</th>\n      <td>aykhal</td>\n      <td>37.72</td>\n      <td>-25.43</td>\n      <td>65.0</td>\n      <td>PT</td>\n    </tr>\n    <tr>\n      <th>500</th>\n      <td>killam</td>\n      <td>26.73</td>\n      <td>33.94</td>\n      <td>34.0</td>\n      <td>EG</td>\n    </tr>\n    <tr>\n      <th>501</th>\n      <td>gondanglegi</td>\n      <td>59.06</td>\n      <td>80.86</td>\n      <td>91.0</td>\n      <td>RU</td>\n    </tr>\n  </tbody>\n</table>\n<p>502 rows × 5 columns</p>\n</div>"
     },
     "metadata": {},
     "execution_count": 3
    }
   ],
   "source": [
    "file_to_load = \"cities.csv\"\n",
    "data = pd.read_csv(file_to_load,low_memory=False)\n",
    "pprint(data)\n",
    "weather_data = data[[\"city\",\"lat\",\"lon\",\"humidity\",\"country\"]]\n",
    "weather_data\n"
   ]
  },
  {
   "cell_type": "markdown",
   "metadata": {},
   "source": [
    "### Humidity Heatmap\n",
    "* Configure gmaps.\n",
    "* Use the Lat and Lng as locations and Humidity as the weight.\n",
    "* Add Heatmap layer to map."
   ]
  },
  {
   "cell_type": "code",
   "execution_count": 4,
   "metadata": {},
   "outputs": [
    {
     "output_type": "display_data",
     "data": {
      "text/plain": "Figure(layout=FigureLayout(height='420px'))",
      "application/vnd.jupyter.widget-view+json": {
       "version_major": 2,
       "version_minor": 0,
       "model_id": "2686b409c5f642028653b9b4cdd1829d"
      }
     },
     "metadata": {}
    }
   ],
   "source": [
    "gmaps.configure(api_key=g_key)\n",
    "\n",
    "humidity = weather_data[[\"humidity\"]].astype(float)\n",
    "lat_lon = weather_data[[\"lat\",\"lon\"]]\n",
    "fig = gmaps.figure() \n",
    "fig.add_layer(gmaps.heatmap_layer(lat_lon, weights=(humidity[\"humidity\"]) ))\n",
    "\n",
    "fig\n"
   ]
  },
  {
   "cell_type": "code",
   "execution_count": null,
   "metadata": {},
   "outputs": [],
   "source": []
  },
  {
   "cell_type": "markdown",
   "metadata": {},
   "source": [
    "### Create new DataFrame fitting weather criteria\n",
    "* Narrow down the cities to fit weather conditions.\n",
    "* Drop any rows will null values."
   ]
  },
  {
   "cell_type": "code",
   "execution_count": 25,
   "metadata": {},
   "outputs": [
    {
     "output_type": "execute_result",
     "data": {
      "text/plain": "                city    lat     lon  humidity  wind speed  max temp country\n62             alofi  50.56   58.27      38.0        6.71     77.00      KZ\n95      puerto ayora  39.89    4.27      47.0       13.87     77.00      ES\n113      new norfolk  -7.57   24.18      49.0        1.95     78.62      CD\n195            tiksi  42.42 -122.83      52.0        4.70     77.00      US\n220       nanortalik  45.63   -1.03      29.0        9.17     77.00      FR\n276          satitoa -23.49  -58.80      37.0        5.75     78.03      PY\n309            lapua  31.61   55.41      18.0       10.54     76.57      IR\n311         vanavara  43.43    6.74      60.0        8.05     75.20      FR\n336             hofn  44.26  -88.42      43.0       11.41     75.99      US\n349  plettenberg bay  45.02  -93.22      46.0        5.82     75.99      US\n350         am timan  40.43   71.72      50.0        2.24     75.20      UZ\n401         craiesti  46.38   35.37      58.0        7.25     77.41      UA\n475       oranjemund  51.74   39.37      41.0       11.18     77.00      RU\n488             sola -14.78   24.80      31.0        6.35     76.42      ZM",
      "text/html": "<div>\n<style scoped>\n    .dataframe tbody tr th:only-of-type {\n        vertical-align: middle;\n    }\n\n    .dataframe tbody tr th {\n        vertical-align: top;\n    }\n\n    .dataframe thead th {\n        text-align: right;\n    }\n</style>\n<table border=\"1\" class=\"dataframe\">\n  <thead>\n    <tr style=\"text-align: right;\">\n      <th></th>\n      <th>city</th>\n      <th>lat</th>\n      <th>lon</th>\n      <th>humidity</th>\n      <th>wind speed</th>\n      <th>max temp</th>\n      <th>country</th>\n    </tr>\n  </thead>\n  <tbody>\n    <tr>\n      <th>62</th>\n      <td>alofi</td>\n      <td>50.56</td>\n      <td>58.27</td>\n      <td>38.0</td>\n      <td>6.71</td>\n      <td>77.00</td>\n      <td>KZ</td>\n    </tr>\n    <tr>\n      <th>95</th>\n      <td>puerto ayora</td>\n      <td>39.89</td>\n      <td>4.27</td>\n      <td>47.0</td>\n      <td>13.87</td>\n      <td>77.00</td>\n      <td>ES</td>\n    </tr>\n    <tr>\n      <th>113</th>\n      <td>new norfolk</td>\n      <td>-7.57</td>\n      <td>24.18</td>\n      <td>49.0</td>\n      <td>1.95</td>\n      <td>78.62</td>\n      <td>CD</td>\n    </tr>\n    <tr>\n      <th>195</th>\n      <td>tiksi</td>\n      <td>42.42</td>\n      <td>-122.83</td>\n      <td>52.0</td>\n      <td>4.70</td>\n      <td>77.00</td>\n      <td>US</td>\n    </tr>\n    <tr>\n      <th>220</th>\n      <td>nanortalik</td>\n      <td>45.63</td>\n      <td>-1.03</td>\n      <td>29.0</td>\n      <td>9.17</td>\n      <td>77.00</td>\n      <td>FR</td>\n    </tr>\n    <tr>\n      <th>276</th>\n      <td>satitoa</td>\n      <td>-23.49</td>\n      <td>-58.80</td>\n      <td>37.0</td>\n      <td>5.75</td>\n      <td>78.03</td>\n      <td>PY</td>\n    </tr>\n    <tr>\n      <th>309</th>\n      <td>lapua</td>\n      <td>31.61</td>\n      <td>55.41</td>\n      <td>18.0</td>\n      <td>10.54</td>\n      <td>76.57</td>\n      <td>IR</td>\n    </tr>\n    <tr>\n      <th>311</th>\n      <td>vanavara</td>\n      <td>43.43</td>\n      <td>6.74</td>\n      <td>60.0</td>\n      <td>8.05</td>\n      <td>75.20</td>\n      <td>FR</td>\n    </tr>\n    <tr>\n      <th>336</th>\n      <td>hofn</td>\n      <td>44.26</td>\n      <td>-88.42</td>\n      <td>43.0</td>\n      <td>11.41</td>\n      <td>75.99</td>\n      <td>US</td>\n    </tr>\n    <tr>\n      <th>349</th>\n      <td>plettenberg bay</td>\n      <td>45.02</td>\n      <td>-93.22</td>\n      <td>46.0</td>\n      <td>5.82</td>\n      <td>75.99</td>\n      <td>US</td>\n    </tr>\n    <tr>\n      <th>350</th>\n      <td>am timan</td>\n      <td>40.43</td>\n      <td>71.72</td>\n      <td>50.0</td>\n      <td>2.24</td>\n      <td>75.20</td>\n      <td>UZ</td>\n    </tr>\n    <tr>\n      <th>401</th>\n      <td>craiesti</td>\n      <td>46.38</td>\n      <td>35.37</td>\n      <td>58.0</td>\n      <td>7.25</td>\n      <td>77.41</td>\n      <td>UA</td>\n    </tr>\n    <tr>\n      <th>475</th>\n      <td>oranjemund</td>\n      <td>51.74</td>\n      <td>39.37</td>\n      <td>41.0</td>\n      <td>11.18</td>\n      <td>77.00</td>\n      <td>RU</td>\n    </tr>\n    <tr>\n      <th>488</th>\n      <td>sola</td>\n      <td>-14.78</td>\n      <td>24.80</td>\n      <td>31.0</td>\n      <td>6.35</td>\n      <td>76.42</td>\n      <td>ZM</td>\n    </tr>\n  </tbody>\n</table>\n</div>"
     },
     "metadata": {},
     "execution_count": 25
    }
   ],
   "source": [
    "comfortable = data[[\"city\",\"lat\",\"lon\",\"humidity\",\"wind speed\",\"max temp\",\"country\"]]\n",
    "comfortable = comfortable.loc[(comfortable[\"max temp\"] <= 80) & (comfortable[\"max temp\"] >= 75) & (comfortable[\"humidity\"] <= 60) & (comfortable[\"wind speed\"] <=20)]\n",
    "comfortable"
   ]
  },
  {
   "cell_type": "markdown",
   "metadata": {},
   "source": [
    "### Hotel Map\n",
    "* Store into variable named `hotel_df`.\n",
    "* Add a \"Hotel Name\" column to the DataFrame.\n",
    "* Set parameters to search for hotels with 5000 meters.\n",
    "* Hit the Google Places API for each city's coordinates.\n",
    "* Store the first Hotel result into the DataFrame.\n",
    "* Plot markers on top of the heatmap."
   ]
  },
  {
   "cell_type": "code",
   "execution_count": 26,
   "metadata": {},
   "outputs": [],
   "source": [
    "city_coord_df = utopia[[\"lat\",\"lon\"]]\n",
    "hotel_df = []\n",
    "no_hotel_counter = 0\n",
    "\n",
    "for i,cities in (city_coord_df.iterrows()):\n",
    "\n",
    "    try:\n",
    "        latlonkey = str(cities[\"lat\"]) + \",\" + str(cities[\"lon\"])\n",
    "        gurl = f\"https://maps.googleapis.com/maps/api/place/nearbysearch/json?keyword=Hotel&radius=5000&location={latlonkey}&key={g_key}\"\n",
    "\n",
    "        response = requests.get(gurl)    \n",
    "        hotel_data = response.json()\n",
    "        hotel_df.append(hotel_data[\"results\"][0][\"name\"])\n",
    "        \n",
    "    except IndexError:\n",
    "        hotel_df.append(\"No hotel near by.\")\n",
    "        no_hotel_counter += 1"
   ]
  },
  {
   "cell_type": "code",
   "execution_count": 35,
   "metadata": {},
   "outputs": [],
   "source": [
    "comfortable_hotels = comfortable.copy()\n",
    "comfortable_hotels =comfortable_hotels.reset_index()\n",
    "hotel_df = pd.DataFrame(hotel_df)\n",
    "comfortable_hotels[\"Hotel Name\"] = hotel_df.astype(str)\n",
    "#hotel_df"
   ]
  },
  {
   "cell_type": "code",
   "execution_count": 36,
   "metadata": {},
   "outputs": [
    {
     "output_type": "error",
     "ename": "KeyError",
     "evalue": "'Hotel Name'",
     "traceback": [
      "\u001b[1;31m---------------------------------------------------------------------------\u001b[0m",
      "\u001b[1;31mKeyError\u001b[0m                                  Traceback (most recent call last)",
      "\u001b[1;32m<ipython-input-36-464b2b3e63ad>\u001b[0m in \u001b[0;36m<module>\u001b[1;34m\u001b[0m\n\u001b[0;32m     11\u001b[0m \u001b[1;31m# Store the DataFrame Row\u001b[0m\u001b[1;33m\u001b[0m\u001b[1;33m\u001b[0m\u001b[1;33m\u001b[0m\u001b[0m\n\u001b[0;32m     12\u001b[0m \u001b[1;31m# NOTE: be sure to update with your DataFrame name\u001b[0m\u001b[1;33m\u001b[0m\u001b[1;33m\u001b[0m\u001b[1;33m\u001b[0m\u001b[0m\n\u001b[1;32m---> 13\u001b[1;33m \u001b[0mhotel_info\u001b[0m \u001b[1;33m=\u001b[0m \u001b[1;33m[\u001b[0m\u001b[0minfo_box_template\u001b[0m\u001b[1;33m.\u001b[0m\u001b[0mformat\u001b[0m\u001b[1;33m(\u001b[0m\u001b[1;33m**\u001b[0m\u001b[0mrow\u001b[0m\u001b[1;33m)\u001b[0m \u001b[1;32mfor\u001b[0m \u001b[0mindex\u001b[0m\u001b[1;33m,\u001b[0m \u001b[0mrow\u001b[0m \u001b[1;32min\u001b[0m \u001b[0mhotel_df\u001b[0m\u001b[1;33m.\u001b[0m\u001b[0miterrows\u001b[0m\u001b[1;33m(\u001b[0m\u001b[1;33m)\u001b[0m\u001b[1;33m]\u001b[0m\u001b[1;33m\u001b[0m\u001b[1;33m\u001b[0m\u001b[0m\n\u001b[0m\u001b[0;32m     14\u001b[0m \u001b[0mlocations\u001b[0m \u001b[1;33m=\u001b[0m \u001b[0mhotel_df\u001b[0m\u001b[1;33m[\u001b[0m\u001b[1;33m[\u001b[0m\u001b[1;34m\"Lat\"\u001b[0m\u001b[1;33m,\u001b[0m \u001b[1;34m\"Lng\"\u001b[0m\u001b[1;33m]\u001b[0m\u001b[1;33m]\u001b[0m\u001b[1;33m\u001b[0m\u001b[1;33m\u001b[0m\u001b[0m\n",
      "\u001b[1;32m<ipython-input-36-464b2b3e63ad>\u001b[0m in \u001b[0;36m<listcomp>\u001b[1;34m(.0)\u001b[0m\n\u001b[0;32m     11\u001b[0m \u001b[1;31m# Store the DataFrame Row\u001b[0m\u001b[1;33m\u001b[0m\u001b[1;33m\u001b[0m\u001b[1;33m\u001b[0m\u001b[0m\n\u001b[0;32m     12\u001b[0m \u001b[1;31m# NOTE: be sure to update with your DataFrame name\u001b[0m\u001b[1;33m\u001b[0m\u001b[1;33m\u001b[0m\u001b[1;33m\u001b[0m\u001b[0m\n\u001b[1;32m---> 13\u001b[1;33m \u001b[0mhotel_info\u001b[0m \u001b[1;33m=\u001b[0m \u001b[1;33m[\u001b[0m\u001b[0minfo_box_template\u001b[0m\u001b[1;33m.\u001b[0m\u001b[0mformat\u001b[0m\u001b[1;33m(\u001b[0m\u001b[1;33m**\u001b[0m\u001b[0mrow\u001b[0m\u001b[1;33m)\u001b[0m \u001b[1;32mfor\u001b[0m \u001b[0mindex\u001b[0m\u001b[1;33m,\u001b[0m \u001b[0mrow\u001b[0m \u001b[1;32min\u001b[0m \u001b[0mhotel_df\u001b[0m\u001b[1;33m.\u001b[0m\u001b[0miterrows\u001b[0m\u001b[1;33m(\u001b[0m\u001b[1;33m)\u001b[0m\u001b[1;33m]\u001b[0m\u001b[1;33m\u001b[0m\u001b[1;33m\u001b[0m\u001b[0m\n\u001b[0m\u001b[0;32m     14\u001b[0m \u001b[0mlocations\u001b[0m \u001b[1;33m=\u001b[0m \u001b[0mhotel_df\u001b[0m\u001b[1;33m[\u001b[0m\u001b[1;33m[\u001b[0m\u001b[1;34m\"Lat\"\u001b[0m\u001b[1;33m,\u001b[0m \u001b[1;34m\"Lng\"\u001b[0m\u001b[1;33m]\u001b[0m\u001b[1;33m]\u001b[0m\u001b[1;33m\u001b[0m\u001b[1;33m\u001b[0m\u001b[0m\n",
      "\u001b[1;31mKeyError\u001b[0m: 'Hotel Name'"
     ]
    }
   ],
   "source": [
    "# NOTE: Do not change any of the code in this cell\n",
    "\n",
    "# Using the template add the hotel marks to the heatmap\n",
    "info_box_template = \"\"\"\n",
    "<dl>\n",
    "<dt>Name</dt><dd>{Hotel Name}</dd>\n",
    "<dt>City</dt><dd>{City}</dd>\n",
    "<dt>Country</dt><dd>{Country}</dd>\n",
    "</dl>\n",
    "\"\"\"\n",
    "# Store the DataFrame Row\n",
    "# NOTE: be sure to update with your DataFrame name\n",
    "hotel_info = [info_box_template.format(**row) for index, row in hotel_df.iterrows()]\n",
    "locations = hotel_df[[\"Lat\", \"Lng\"]]"
   ]
  },
  {
   "cell_type": "code",
   "execution_count": null,
   "metadata": {},
   "outputs": [],
   "source": [
    "# Add marker layer ontop of heat map\n",
    "\n",
    "\n",
    "# Display figure\n"
   ]
  },
  {
   "cell_type": "code",
   "execution_count": null,
   "metadata": {},
   "outputs": [],
   "source": []
  }
 ],
 "metadata": {
  "kernelspec": {
   "display_name": "Python 3.8.3 64-bit ('base': conda)",
   "language": "python",
   "name": "python_defaultSpec_1599613932356"
  },
  "language_info": {
   "codemirror_mode": {
    "name": "ipython",
    "version": 3
   },
   "file_extension": ".py",
   "mimetype": "text/x-python",
   "name": "python",
   "nbconvert_exporter": "python",
   "pygments_lexer": "ipython3",
   "version": "3.8.3-final"
  },
  "latex_envs": {
   "LaTeX_envs_menu_present": true,
   "autoclose": false,
   "autocomplete": true,
   "bibliofile": "biblio.bib",
   "cite_by": "apalike",
   "current_citInitial": 1,
   "eqLabelWithNumbers": true,
   "eqNumInitial": 1,
   "hotkeys": {
    "equation": "Ctrl-E",
    "itemize": "Ctrl-I"
   },
   "labels_anchors": false,
   "latex_user_defs": false,
   "report_style_numbering": false,
   "user_envs_cfg": false
  }
 },
 "nbformat": 4,
 "nbformat_minor": 4
}